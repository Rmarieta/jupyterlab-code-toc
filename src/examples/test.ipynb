{
 "cells": [
  {
   "cell_type": "code",
   "execution_count": 1,
   "id": "a6e59b49-044e-4cad-83c3-5a09214eb7e4",
   "metadata": {
    "execution": {
     "iopub.execute_input": "2023-09-11T16:56:46.960011Z",
     "iopub.status.busy": "2023-09-11T16:56:46.960011Z",
     "iopub.status.idle": "2023-09-11T16:56:46.976268Z",
     "shell.execute_reply": "2023-09-11T16:56:46.976268Z",
     "shell.execute_reply.started": "2023-09-11T16:56:46.960011Z"
    }
   },
   "outputs": [],
   "source": [
    "import time"
   ]
  },
  {
   "cell_type": "markdown",
   "id": "efebb3e9-f594-4c4e-9ba4-09ad7c0f3267",
   "metadata": {},
   "source": [
    "\n",
    "Markdown before title\n",
    "\n",
    "# Title\n",
    "\n",
    "## Hello\n",
    "\n",
    "## 2nd title that is going to overflow or wrap\n",
    "\n"
   ]
  },
  {
   "cell_type": "code",
   "execution_count": 1,
   "id": "26a6d017-bfb9-4e9c-8661-96d8fb0d185b",
   "metadata": {
    "execution": {
     "iopub.execute_input": "2023-09-11T20:52:24.087561Z",
     "iopub.status.busy": "2023-09-11T20:52:24.085559Z",
     "iopub.status.idle": "2023-09-11T20:52:24.103669Z",
     "shell.execute_reply": "2023-09-11T20:52:24.102128Z",
     "shell.execute_reply.started": "2023-09-11T20:52:24.087561Z"
    }
   },
   "outputs": [],
   "source": [
    "def function() :\n",
    "    print('Is this going to be too large or wrap ?')\n",
    "    x = 2+3\n",
    "    return x"
   ]
  },
  {
   "cell_type": "markdown",
   "id": "3d96d245-926a-4b0c-ae63-170926e3549b",
   "metadata": {},
   "source": [
    "bit of markdown here and let's see what happens when it gets long\n",
    "\n",
    "### 3rd\n",
    "\n",
    "some more markdown"
   ]
  },
  {
   "cell_type": "code",
   "execution_count": null,
   "id": "124bc2a6-579f-4b32-bd2b-506ac2ab90e6",
   "metadata": {},
   "outputs": [],
   "source": []
  },
  {
   "cell_type": "code",
   "execution_count": null,
   "id": "f2856789-a3d0-40f9-a415-01bc0cb4a1d7",
   "metadata": {},
   "outputs": [],
   "source": []
  }
 ],
 "metadata": {
  "kernelspec": {
   "display_name": "Python 3 (ipykernel)",
   "language": "python",
   "name": "python3"
  },
  "language_info": {
   "codemirror_mode": {
    "name": "ipython",
    "version": 3
   },
   "file_extension": ".py",
   "mimetype": "text/x-python",
   "name": "python",
   "nbconvert_exporter": "python",
   "pygments_lexer": "ipython3",
   "version": "3.11.5"
  },
  "toc-autonumbering": false,
  "toc-showcode": true,
  "toc-showmarkdowntxt": true,
  "toc-showtags": false
 },
 "nbformat": 4,
 "nbformat_minor": 5
}
